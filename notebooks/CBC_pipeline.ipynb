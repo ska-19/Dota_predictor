{
 "nbformat": 4,
 "nbformat_minor": 0,
 "metadata": {
  "colab": {
   "provenance": []
  },
  "kernelspec": {
   "name": "python3",
   "display_name": "Python 3"
  },
  "language_info": {
   "name": "python"
  }
 },
 "cells": [
  {
   "cell_type": "code",
   "source": [
    "# !pip install catboost\n",
    "# !pip install optuna"
   ],
   "metadata": {
    "id": "rwyKFQR2QRH8"
   },
   "execution_count": 6,
   "outputs": []
  },
  {
   "cell_type": "code",
   "source": [
    "# import pandas as pd\n",
    "\n",
    "\n",
    "# kaggle_dota_path = '/content/sample_data/dotaset_kaggle.csv'\n",
    "# df_kaggle = pd.read_csv(kaggle_dota_path)\n",
    "# df_kaggle['match_id'] = df_kaggle.index\n",
    "# output_file_path = '/content/modified_dotaset_kaggle.csv'\n",
    "# df_kaggle.to_csv(output_file_path, index=False)\n",
    "\n",
    "# print(f\"Modified file saved to {output_file_path}\")"
   ],
   "metadata": {
    "id": "KW-jplYapfD4"
   },
   "execution_count": 7,
   "outputs": []
  },
  {
   "cell_type": "code",
   "source": [
    "import pandas as pd\n",
    "import numpy as np\n",
    "from catboost import CatBoostClassifier\n",
    "import joblib\n",
    "from sklearn.preprocessing import OneHotEncoder\n",
    "from sklearn.compose import ColumnTransformer\n",
    "from sklearn.pipeline import Pipeline\n",
    "from sklearn.model_selection import train_test_split\n",
    "from sklearn.metrics import accuracy_score, precision_score, recall_score, f1_score\n",
    "import glob\n",
    "import optuna\n",
    "\n",
    "file_paths = glob.glob('/content/*.csv')\n",
    "# file_paths = ['/content/dota9_81.csv']\n",
    "\n",
    "dfs = [pd.read_csv(file) for file in file_paths]\n",
    "df = pd.concat(dfs, ignore_index=True)\n",
    "df_unique = df.drop_duplicates(subset='match_id')\n",
    "\n",
    "output_file_path = '/content/sample_data/combined_dota.csv'\n",
    "df_unique.to_csv(output_file_path, index=False)"
   ],
   "metadata": {
    "id": "xDfNJyGhhLrJ"
   },
   "execution_count": 8,
   "outputs": []
  },
  {
   "cell_type": "code",
   "source": [
    "df_unique.shape"
   ],
   "metadata": {
    "colab": {
     "base_uri": "https://localhost:8080/"
    },
    "id": "CrGZHDZghMKw",
    "outputId": "90486579-ab7a-4ac6-de55-8333720eec01"
   },
   "execution_count": 9,
   "outputs": [
    {
     "output_type": "execute_result",
     "data": {
      "text/plain": [
       "(2600, 12)"
      ]
     },
     "metadata": {},
     "execution_count": 9
    }
   ]
  },
  {
   "cell_type": "code",
   "source": [
    "X = df_unique.drop(columns=['match_id', 'radiant_win'])\n",
    "y = df_unique['radiant_win']\n",
    "\n",
    "first_five_cols = ['0', '1', '2', '3', '4']\n",
    "last_five_cols = ['5', '6', '7', '8', '9']\n",
    "\n",
    "\n",
    "ohe = OneHotEncoder(categories='auto', sparse=False)\n",
    "ohe.fit(X[first_five_cols + last_five_cols].values.reshape(-1, 1))\n",
    "\n",
    "first_five_encoded = ohe.transform(X[first_five_cols].values.reshape(-1, 1)).reshape(X.shape[0], -1, len(ohe.categories_[0])).sum(axis=1)\n",
    "last_five_encoded = ohe.transform(X[last_five_cols].values.reshape(-1, 1)).reshape(X.shape[0], -1, len(ohe.categories_[0])).sum(axis=1)\n",
    "combined_encoded = first_five_encoded - last_five_encoded\n",
    "\n",
    "encoded_columns = [f'hero_{cat}' for cat in ohe.categories_[0]]\n",
    "encoded_df = pd.DataFrame(combined_encoded, columns=encoded_columns)"
   ],
   "metadata": {
    "colab": {
     "base_uri": "https://localhost:8080/"
    },
    "id": "5toDQXGvpurS",
    "outputId": "3faf108b-45da-4a13-d7a2-d45e709bcdb5"
   },
   "execution_count": null,
   "outputs": []
  },
  {
   "cell_type": "code",
   "source": [
    "X_train, X_test, y_train, y_test = train_test_split(encoded_df, y, test_size=0.2, random_state=42)\n",
    "\n",
    "def objective(trial):\n",
    "    param = {\n",
    "          \"objective\": trial.suggest_categorical(\"objective\", [\"Logloss\", \"CrossEntropy\"]),\n",
    "          \"colsample_bylevel\": trial.suggest_float(\"colsample_bylevel\", 0.01, 0.1),\n",
    "          \"depth\": trial.suggest_int(\"depth\", 1, 12),\n",
    "          \"boosting_type\": trial.suggest_categorical(\"boosting_type\", [\"Ordered\", \"Plain\"]),\n",
    "          \"bootstrap_type\": trial.suggest_categorical(\n",
    "              \"bootstrap_type\", [\"Bayesian\", \"Bernoulli\", \"MVS\"]\n",
    "          ),\n",
    "          'l2_leaf_reg': trial.suggest_float('l2_leaf_reg', 1e-4, 1e-1, log=True),\n",
    "          \"used_ram_limit\": \"3gb\",\n",
    "          'random_strength': 42,\n",
    "          'learning_rate': trial.suggest_float('learning_rate', 1e-4, 1e-1, log=True),\n",
    "          'border_count': trial.suggest_int('border_count', 32, 255),\n",
    "          'eval_metric': 'Logloss',\n",
    "      }\n",
    "    if param[\"bootstrap_type\"] == \"Bayesian\":\n",
    "        param[\"bagging_temperature\"] = trial.suggest_float(\"bagging_temperature\", 0, 10)\n",
    "    elif param[\"bootstrap_type\"] == \"Bernoulli\":\n",
    "        param[\"subsample\"] = trial.suggest_float(\"subsample\", 0.1, 1)\n",
    "\n",
    "    model = CatBoostClassifier(**param, verbose=0)\n",
    "    model.fit(X_train, y_train, eval_set=[(X_test, y_test)], early_stopping_rounds=100, verbose=0)\n",
    "\n",
    "    y_pred = model.predict(X_test)\n",
    "    accuracy = accuracy_score(y_test, y_pred)\n",
    "    return accuracy\n",
    "\n",
    "\n",
    "study = optuna.create_study(direction='maximize')\n",
    "study.optimize(objective, n_trials=50, timeout=600)\n",
    "\n",
    "print(\"Best parameters:\", study.best_params)\n",
    "\n",
    "best_params = study.best_params\n",
    "model = CatBoostClassifier(**best_params, eval_metric='Logloss', verbose=0)\n",
    "model.fit(X_train, y_train)\n",
    "\n",
    "model_file_path = 'catboost_model_pipeline.joblib'\n",
    "joblib.dump(model, model_file_path)\n",
    "encoder_file_path = 'onehot_encoder.joblib'\n",
    "joblib.dump(ohe, encoder_file_path)\n",
    "\n"
   ],
   "metadata": {
    "colab": {
     "base_uri": "https://localhost:8080/"
    },
    "id": "uGBtc-w9QLr2",
    "outputId": "1b2cf10b-7a99-4630-a872-3bce78f392f6"
   },
   "execution_count": 11,
   "outputs": [
    {
     "output_type": "stream",
     "name": "stderr",
     "text": [
      "[I 2024-06-07 17:02:41,001] A new study created in memory with name: no-name-4109914d-a1a6-4618-9b2c-fc0cc4c89782\n",
      "[I 2024-06-07 17:02:41,550] Trial 0 finished with value: 0.5115384615384615 and parameters: {'objective': 'Logloss', 'colsample_bylevel': 0.0331508754950669, 'depth': 9, 'boosting_type': 'Plain', 'bootstrap_type': 'MVS', 'l2_leaf_reg': 0.0020515268049833848, 'learning_rate': 0.003982902648654658, 'border_count': 182}. Best is trial 0 with value: 0.5115384615384615.\n",
      "[I 2024-06-07 17:02:43,644] Trial 1 finished with value: 0.5096153846153846 and parameters: {'objective': 'Logloss', 'colsample_bylevel': 0.051445657637614, 'depth': 6, 'boosting_type': 'Ordered', 'bootstrap_type': 'Bayesian', 'l2_leaf_reg': 0.011850547704187638, 'learning_rate': 0.002023501832461677, 'border_count': 134, 'bagging_temperature': 4.72810153455811}. Best is trial 0 with value: 0.5115384615384615.\n",
      "[I 2024-06-07 17:02:50,453] Trial 2 finished with value: 0.5076923076923077 and parameters: {'objective': 'CrossEntropy', 'colsample_bylevel': 0.03997427925797975, 'depth': 1, 'boosting_type': 'Ordered', 'bootstrap_type': 'Bernoulli', 'l2_leaf_reg': 0.0018930664828470986, 'learning_rate': 0.00025961388949686056, 'border_count': 144, 'subsample': 0.11057809717029637}. Best is trial 0 with value: 0.5115384615384615.\n",
      "[I 2024-06-07 17:03:00,470] Trial 3 finished with value: 0.5346153846153846 and parameters: {'objective': 'Logloss', 'colsample_bylevel': 0.08607382421256879, 'depth': 5, 'boosting_type': 'Ordered', 'bootstrap_type': 'Bernoulli', 'l2_leaf_reg': 0.0002557985149480332, 'learning_rate': 0.007230846665429413, 'border_count': 234, 'subsample': 0.2872805657202676}. Best is trial 3 with value: 0.5346153846153846.\n",
      "[I 2024-06-07 17:03:01,067] Trial 4 finished with value: 0.5173076923076924 and parameters: {'objective': 'CrossEntropy', 'colsample_bylevel': 0.01767126727993359, 'depth': 11, 'boosting_type': 'Plain', 'bootstrap_type': 'Bernoulli', 'l2_leaf_reg': 0.0040531782873856744, 'learning_rate': 0.08322239636443307, 'border_count': 165, 'subsample': 0.27498060160704496}. Best is trial 3 with value: 0.5346153846153846.\n",
      "[I 2024-06-07 17:03:03,558] Trial 5 finished with value: 0.5076923076923077 and parameters: {'objective': 'CrossEntropy', 'colsample_bylevel': 0.012141606676994869, 'depth': 3, 'boosting_type': 'Plain', 'bootstrap_type': 'Bernoulli', 'l2_leaf_reg': 0.00016643240339939952, 'learning_rate': 0.00025871421589707295, 'border_count': 73, 'subsample': 0.4131681475285104}. Best is trial 3 with value: 0.5346153846153846.\n",
      "[I 2024-06-07 17:03:05,080] Trial 6 finished with value: 0.5115384615384615 and parameters: {'objective': 'CrossEntropy', 'colsample_bylevel': 0.014203751614251244, 'depth': 5, 'boosting_type': 'Ordered', 'bootstrap_type': 'Bernoulli', 'l2_leaf_reg': 0.0005707433359442559, 'learning_rate': 0.017887952231570105, 'border_count': 238, 'subsample': 0.2775211902127577}. Best is trial 3 with value: 0.5346153846153846.\n",
      "[I 2024-06-07 17:03:18,152] Trial 7 finished with value: 0.5153846153846153 and parameters: {'objective': 'CrossEntropy', 'colsample_bylevel': 0.028033314664841505, 'depth': 12, 'boosting_type': 'Ordered', 'bootstrap_type': 'Bernoulli', 'l2_leaf_reg': 0.001989990983285423, 'learning_rate': 0.0025972658185509385, 'border_count': 175, 'subsample': 0.9926499707229096}. Best is trial 3 with value: 0.5346153846153846.\n",
      "[I 2024-06-07 17:03:31,706] Trial 8 finished with value: 0.5115384615384615 and parameters: {'objective': 'Logloss', 'colsample_bylevel': 0.05532372112599442, 'depth': 12, 'boosting_type': 'Ordered', 'bootstrap_type': 'Bayesian', 'l2_leaf_reg': 0.004251426799316281, 'learning_rate': 0.00025412542600788685, 'border_count': 98, 'bagging_temperature': 6.96747983349106}. Best is trial 3 with value: 0.5346153846153846.\n",
      "[I 2024-06-07 17:03:32,349] Trial 9 finished with value: 0.49423076923076925 and parameters: {'objective': 'CrossEntropy', 'colsample_bylevel': 0.05522469353911063, 'depth': 11, 'boosting_type': 'Plain', 'bootstrap_type': 'Bayesian', 'l2_leaf_reg': 0.0014557120674687553, 'learning_rate': 0.008406518475214474, 'border_count': 243, 'bagging_temperature': 7.922643029283015}. Best is trial 3 with value: 0.5346153846153846.\n",
      "[I 2024-06-07 17:03:34,051] Trial 10 finished with value: 0.5115384615384615 and parameters: {'objective': 'Logloss', 'colsample_bylevel': 0.0916730032605669, 'depth': 8, 'boosting_type': 'Ordered', 'bootstrap_type': 'MVS', 'l2_leaf_reg': 0.0001414770858125011, 'learning_rate': 0.03230293205731636, 'border_count': 215}. Best is trial 3 with value: 0.5346153846153846.\n",
      "[I 2024-06-07 17:03:34,297] Trial 11 finished with value: 0.5096153846153846 and parameters: {'objective': 'Logloss', 'colsample_bylevel': 0.08748732060505474, 'depth': 4, 'boosting_type': 'Plain', 'bootstrap_type': 'Bernoulli', 'l2_leaf_reg': 0.06039690285646049, 'learning_rate': 0.0781794967964602, 'border_count': 37, 'subsample': 0.5994930601478283}. Best is trial 3 with value: 0.5346153846153846.\n",
      "[I 2024-06-07 17:03:34,750] Trial 12 finished with value: 0.5307692307692308 and parameters: {'objective': 'Logloss', 'colsample_bylevel': 0.07694134603387419, 'depth': 9, 'boosting_type': 'Plain', 'bootstrap_type': 'Bernoulli', 'l2_leaf_reg': 0.010143878612190026, 'learning_rate': 0.07408973038121008, 'border_count': 198, 'subsample': 0.5326856344537787}. Best is trial 3 with value: 0.5346153846153846.\n",
      "[I 2024-06-07 17:03:35,514] Trial 13 finished with value: 0.5057692307692307 and parameters: {'objective': 'Logloss', 'colsample_bylevel': 0.07684971736220414, 'depth': 8, 'boosting_type': 'Plain', 'bootstrap_type': 'Bernoulli', 'l2_leaf_reg': 0.02044159769639467, 'learning_rate': 0.0007049045947559044, 'border_count': 211, 'subsample': 0.6369464508098223}. Best is trial 3 with value: 0.5346153846153846.\n",
      "[I 2024-06-07 17:03:37,002] Trial 14 finished with value: 0.5346153846153846 and parameters: {'objective': 'Logloss', 'colsample_bylevel': 0.07407385759375279, 'depth': 7, 'boosting_type': 'Ordered', 'bootstrap_type': 'MVS', 'l2_leaf_reg': 0.00042703037351874275, 'learning_rate': 0.01964912011021894, 'border_count': 207}. Best is trial 3 with value: 0.5346153846153846.\n",
      "[I 2024-06-07 17:03:38,229] Trial 15 finished with value: 0.5115384615384615 and parameters: {'objective': 'Logloss', 'colsample_bylevel': 0.07130017123558473, 'depth': 2, 'boosting_type': 'Ordered', 'bootstrap_type': 'MVS', 'l2_leaf_reg': 0.0004675907845580842, 'learning_rate': 0.012203388294748124, 'border_count': 254}. Best is trial 3 with value: 0.5346153846153846.\n",
      "[I 2024-06-07 17:03:41,290] Trial 16 finished with value: 0.525 and parameters: {'objective': 'Logloss', 'colsample_bylevel': 0.09904905971045722, 'depth': 6, 'boosting_type': 'Ordered', 'bootstrap_type': 'MVS', 'l2_leaf_reg': 0.00041396059750478025, 'learning_rate': 0.006230676552710624, 'border_count': 224}. Best is trial 3 with value: 0.5346153846153846.\n",
      "[I 2024-06-07 17:03:42,576] Trial 17 finished with value: 0.5211538461538462 and parameters: {'objective': 'Logloss', 'colsample_bylevel': 0.0663983988553153, 'depth': 4, 'boosting_type': 'Ordered', 'bootstrap_type': 'MVS', 'l2_leaf_reg': 0.0002682436248029719, 'learning_rate': 0.028915951415095533, 'border_count': 144}. Best is trial 3 with value: 0.5346153846153846.\n",
      "[I 2024-06-07 17:03:46,103] Trial 18 finished with value: 0.5134615384615384 and parameters: {'objective': 'Logloss', 'colsample_bylevel': 0.08511542182661747, 'depth': 7, 'boosting_type': 'Ordered', 'bootstrap_type': 'MVS', 'l2_leaf_reg': 0.0008062704980915765, 'learning_rate': 0.0011720013249162903, 'border_count': 194}. Best is trial 3 with value: 0.5346153846153846.\n",
      "[I 2024-06-07 17:03:47,307] Trial 19 finished with value: 0.5038461538461538 and parameters: {'objective': 'Logloss', 'colsample_bylevel': 0.0639121567606516, 'depth': 4, 'boosting_type': 'Ordered', 'bootstrap_type': 'MVS', 'l2_leaf_reg': 0.00011792556212514254, 'learning_rate': 0.03090427671704845, 'border_count': 113}. Best is trial 3 with value: 0.5346153846153846.\n",
      "[I 2024-06-07 17:03:48,708] Trial 20 finished with value: 0.5038461538461538 and parameters: {'objective': 'Logloss', 'colsample_bylevel': 0.07987078353644986, 'depth': 7, 'boosting_type': 'Ordered', 'bootstrap_type': 'Bayesian', 'l2_leaf_reg': 0.0009098820031982136, 'learning_rate': 0.005606221169879581, 'border_count': 224, 'bagging_temperature': 0.8513700567542939}. Best is trial 3 with value: 0.5346153846153846.\n",
      "[I 2024-06-07 17:03:49,080] Trial 21 finished with value: 0.5057692307692307 and parameters: {'objective': 'Logloss', 'colsample_bylevel': 0.0966164210191287, 'depth': 10, 'boosting_type': 'Plain', 'bootstrap_type': 'Bernoulli', 'l2_leaf_reg': 0.009642656423873413, 'learning_rate': 0.046959548246888194, 'border_count': 199, 'subsample': 0.7757462529811351}. Best is trial 3 with value: 0.5346153846153846.\n",
      "[I 2024-06-07 17:03:49,476] Trial 22 finished with value: 0.4980769230769231 and parameters: {'objective': 'Logloss', 'colsample_bylevel': 0.07586449023425659, 'depth': 9, 'boosting_type': 'Plain', 'bootstrap_type': 'Bernoulli', 'l2_leaf_reg': 0.04571609007334828, 'learning_rate': 0.01552471246975987, 'border_count': 167, 'subsample': 0.44948674627232543}. Best is trial 3 with value: 0.5346153846153846.\n",
      "[I 2024-06-07 17:03:49,795] Trial 23 finished with value: 0.5115384615384615 and parameters: {'objective': 'Logloss', 'colsample_bylevel': 0.08362875481642743, 'depth': 8, 'boosting_type': 'Plain', 'bootstrap_type': 'Bernoulli', 'l2_leaf_reg': 0.0002749297084935712, 'learning_rate': 0.047511334037085684, 'border_count': 201, 'subsample': 0.10941698396805422}. Best is trial 3 with value: 0.5346153846153846.\n",
      "[I 2024-06-07 17:03:50,778] Trial 24 finished with value: 0.5038461538461538 and parameters: {'objective': 'Logloss', 'colsample_bylevel': 0.06362798701080134, 'depth': 5, 'boosting_type': 'Ordered', 'bootstrap_type': 'Bernoulli', 'l2_leaf_reg': 0.007945959535373465, 'learning_rate': 0.009903612244791495, 'border_count': 230, 'subsample': 0.746891269254544}. Best is trial 3 with value: 0.5346153846153846.\n",
      "[I 2024-06-07 17:03:53,072] Trial 25 finished with value: 0.5115384615384615 and parameters: {'objective': 'Logloss', 'colsample_bylevel': 0.07296133223661538, 'depth': 9, 'boosting_type': 'Ordered', 'bootstrap_type': 'MVS', 'l2_leaf_reg': 0.02944122328369546, 'learning_rate': 0.019351959311326317, 'border_count': 252}. Best is trial 3 with value: 0.5346153846153846.\n",
      "[I 2024-06-07 17:03:54,097] Trial 26 finished with value: 0.5230769230769231 and parameters: {'objective': 'Logloss', 'colsample_bylevel': 0.09157318800569801, 'depth': 6, 'boosting_type': 'Plain', 'bootstrap_type': 'Bernoulli', 'l2_leaf_reg': 0.005425346947292212, 'learning_rate': 0.09462649930804076, 'border_count': 188, 'subsample': 0.3730245042401509}. Best is trial 3 with value: 0.5346153846153846.\n",
      "[I 2024-06-07 17:03:56,361] Trial 27 finished with value: 0.5096153846153846 and parameters: {'objective': 'Logloss', 'colsample_bylevel': 0.0662483909286706, 'depth': 5, 'boosting_type': 'Ordered', 'bootstrap_type': 'Bernoulli', 'l2_leaf_reg': 0.00022323812172877355, 'learning_rate': 0.04823121234531688, 'border_count': 155, 'subsample': 0.5021420007153019}. Best is trial 3 with value: 0.5346153846153846.\n",
      "[I 2024-06-07 17:03:57,413] Trial 28 finished with value: 0.5192307692307693 and parameters: {'objective': 'Logloss', 'colsample_bylevel': 0.049603652666418786, 'depth': 7, 'boosting_type': 'Plain', 'bootstrap_type': 'Bayesian', 'l2_leaf_reg': 0.016955070346088483, 'learning_rate': 0.004008629054821172, 'border_count': 215, 'bagging_temperature': 0.048487443503788086}. Best is trial 3 with value: 0.5346153846153846.\n",
      "[I 2024-06-07 17:03:58,279] Trial 29 finished with value: 0.5173076923076924 and parameters: {'objective': 'Logloss', 'colsample_bylevel': 0.08123723062030833, 'depth': 9, 'boosting_type': 'Plain', 'bootstrap_type': 'MVS', 'l2_leaf_reg': 0.0010241819001449255, 'learning_rate': 0.023254773617475896, 'border_count': 181}. Best is trial 3 with value: 0.5346153846153846.\n",
      "[I 2024-06-07 17:04:07,001] Trial 30 finished with value: 0.5173076923076924 and parameters: {'objective': 'Logloss', 'colsample_bylevel': 0.05929863885733468, 'depth': 10, 'boosting_type': 'Ordered', 'bootstrap_type': 'MVS', 'l2_leaf_reg': 0.002904201135542849, 'learning_rate': 0.0042120061495511014, 'border_count': 209}. Best is trial 3 with value: 0.5346153846153846.\n",
      "[I 2024-06-07 17:04:10,139] Trial 31 finished with value: 0.5173076923076924 and parameters: {'objective': 'Logloss', 'colsample_bylevel': 0.09603710061461661, 'depth': 6, 'boosting_type': 'Ordered', 'bootstrap_type': 'MVS', 'l2_leaf_reg': 0.00044855282210720616, 'learning_rate': 0.006226917337692356, 'border_count': 232}. Best is trial 3 with value: 0.5346153846153846.\n",
      "[I 2024-06-07 17:04:20,121] Trial 32 finished with value: 0.5307692307692308 and parameters: {'objective': 'Logloss', 'colsample_bylevel': 0.09965310358545432, 'depth': 6, 'boosting_type': 'Ordered', 'bootstrap_type': 'MVS', 'l2_leaf_reg': 0.00042344308782331873, 'learning_rate': 0.0077173780465738, 'border_count': 224}. Best is trial 3 with value: 0.5346153846153846.\n",
      "[I 2024-06-07 17:04:26,168] Trial 33 finished with value: 0.5096153846153846 and parameters: {'objective': 'Logloss', 'colsample_bylevel': 0.0891199152117753, 'depth': 8, 'boosting_type': 'Ordered', 'bootstrap_type': 'MVS', 'l2_leaf_reg': 0.00021155726708305272, 'learning_rate': 0.001428957587221077, 'border_count': 239}. Best is trial 3 with value: 0.5346153846153846.\n",
      "[I 2024-06-07 17:04:30,094] Trial 34 finished with value: 0.5346153846153846 and parameters: {'objective': 'Logloss', 'colsample_bylevel': 0.09351319288706163, 'depth': 5, 'boosting_type': 'Ordered', 'bootstrap_type': 'MVS', 'l2_leaf_reg': 0.0003541266720430394, 'learning_rate': 0.010262732751185432, 'border_count': 194}. Best is trial 3 with value: 0.5346153846153846.\n",
      "[I 2024-06-07 17:04:31,975] Trial 35 finished with value: 0.5076923076923077 and parameters: {'objective': 'CrossEntropy', 'colsample_bylevel': 0.04442336905977018, 'depth': 1, 'boosting_type': 'Ordered', 'bootstrap_type': 'Bernoulli', 'l2_leaf_reg': 0.00011667326110041939, 'learning_rate': 0.012366492102871121, 'border_count': 185, 'subsample': 0.22967110298664617}. Best is trial 3 with value: 0.5346153846153846.\n",
      "[I 2024-06-07 17:04:45,252] Trial 36 finished with value: 0.5076923076923077 and parameters: {'objective': 'Logloss', 'colsample_bylevel': 0.07253189113741583, 'depth': 3, 'boosting_type': 'Ordered', 'bootstrap_type': 'MVS', 'l2_leaf_reg': 0.0011666344165229656, 'learning_rate': 0.0001557556065375373, 'border_count': 158}. Best is trial 3 with value: 0.5346153846153846.\n",
      "[I 2024-06-07 17:04:47,701] Trial 37 finished with value: 0.5038461538461538 and parameters: {'objective': 'CrossEntropy', 'colsample_bylevel': 0.07948870854537396, 'depth': 5, 'boosting_type': 'Ordered', 'bootstrap_type': 'Bernoulli', 'l2_leaf_reg': 0.0007152849187660729, 'learning_rate': 0.002686698549029224, 'border_count': 172, 'subsample': 0.7210086642315244}. Best is trial 3 with value: 0.5346153846153846.\n",
      "[I 2024-06-07 17:04:48,222] Trial 38 finished with value: 0.5134615384615384 and parameters: {'objective': 'Logloss', 'colsample_bylevel': 0.09257823868818815, 'depth': 3, 'boosting_type': 'Plain', 'bootstrap_type': 'Bayesian', 'l2_leaf_reg': 0.00033358308725287933, 'learning_rate': 0.013389918047333365, 'border_count': 121, 'bagging_temperature': 3.7178988558814585}. Best is trial 3 with value: 0.5346153846153846.\n",
      "[I 2024-06-07 17:04:49,439] Trial 39 finished with value: 0.5211538461538462 and parameters: {'objective': 'CrossEntropy', 'colsample_bylevel': 0.028430642650741845, 'depth': 10, 'boosting_type': 'Ordered', 'bootstrap_type': 'Bernoulli', 'l2_leaf_reg': 0.0024125694799528455, 'learning_rate': 0.06211248777043403, 'border_count': 205, 'subsample': 0.899411057932487}. Best is trial 3 with value: 0.5346153846153846.\n",
      "[I 2024-06-07 17:04:50,473] Trial 40 finished with value: 0.48653846153846153 and parameters: {'objective': 'Logloss', 'colsample_bylevel': 0.08434819897097293, 'depth': 7, 'boosting_type': 'Ordered', 'bootstrap_type': 'MVS', 'l2_leaf_reg': 0.00016602425612270586, 'learning_rate': 0.02239732198410193, 'border_count': 189}. Best is trial 3 with value: 0.5346153846153846.\n",
      "[I 2024-06-07 17:04:51,500] Trial 41 finished with value: 0.5153846153846153 and parameters: {'objective': 'Logloss', 'colsample_bylevel': 0.09914230757165557, 'depth': 6, 'boosting_type': 'Ordered', 'bootstrap_type': 'MVS', 'l2_leaf_reg': 0.000656143937804612, 'learning_rate': 0.008442422826552522, 'border_count': 217}. Best is trial 3 with value: 0.5346153846153846.\n",
      "[I 2024-06-07 17:04:55,200] Trial 42 finished with value: 0.5057692307692307 and parameters: {'objective': 'Logloss', 'colsample_bylevel': 0.09332919328928638, 'depth': 5, 'boosting_type': 'Ordered', 'bootstrap_type': 'MVS', 'l2_leaf_reg': 0.0014186954383213894, 'learning_rate': 0.004937402492127672, 'border_count': 238}. Best is trial 3 with value: 0.5346153846153846.\n",
      "[I 2024-06-07 17:04:56,617] Trial 43 finished with value: 0.5038461538461538 and parameters: {'objective': 'Logloss', 'colsample_bylevel': 0.08958375874373979, 'depth': 4, 'boosting_type': 'Ordered', 'bootstrap_type': 'MVS', 'l2_leaf_reg': 0.0003412889539821869, 'learning_rate': 0.0030716624793631483, 'border_count': 247}. Best is trial 3 with value: 0.5346153846153846.\n",
      "[I 2024-06-07 17:04:58,025] Trial 44 finished with value: 0.5403846153846154 and parameters: {'objective': 'Logloss', 'colsample_bylevel': 0.08636970893056112, 'depth': 5, 'boosting_type': 'Ordered', 'bootstrap_type': 'MVS', 'l2_leaf_reg': 0.0005739849411010852, 'learning_rate': 0.008214995349459315, 'border_count': 221}. Best is trial 44 with value: 0.5403846153846154.\n",
      "[I 2024-06-07 17:04:58,266] Trial 45 finished with value: 0.5076923076923077 and parameters: {'objective': 'CrossEntropy', 'colsample_bylevel': 0.07618930717218754, 'depth': 2, 'boosting_type': 'Plain', 'bootstrap_type': 'Bernoulli', 'l2_leaf_reg': 0.09421868734880547, 'learning_rate': 0.009480252896138035, 'border_count': 201, 'subsample': 0.5507973393814876}. Best is trial 44 with value: 0.5403846153846154.\n",
      "[I 2024-06-07 17:04:59,230] Trial 46 finished with value: 0.5384615384615384 and parameters: {'objective': 'Logloss', 'colsample_bylevel': 0.08802068996725766, 'depth': 5, 'boosting_type': 'Ordered', 'bootstrap_type': 'Bayesian', 'l2_leaf_reg': 0.0005377317988863121, 'learning_rate': 0.036842683078448034, 'border_count': 73, 'bagging_temperature': 9.183087633467931}. Best is trial 44 with value: 0.5403846153846154.\n",
      "[I 2024-06-07 17:05:00,310] Trial 47 finished with value: 0.5057692307692307 and parameters: {'objective': 'Logloss', 'colsample_bylevel': 0.08676005434715178, 'depth': 5, 'boosting_type': 'Ordered', 'bootstrap_type': 'Bayesian', 'l2_leaf_reg': 0.0005551482886476782, 'learning_rate': 0.016300507297761054, 'border_count': 66, 'bagging_temperature': 9.97953983101295}. Best is trial 44 with value: 0.5403846153846154.\n",
      "[I 2024-06-07 17:05:03,082] Trial 48 finished with value: 0.5076923076923077 and parameters: {'objective': 'Logloss', 'colsample_bylevel': 0.08172301093580185, 'depth': 3, 'boosting_type': 'Ordered', 'bootstrap_type': 'Bayesian', 'l2_leaf_reg': 0.00024173668389170717, 'learning_rate': 0.0020653958522722886, 'border_count': 82, 'bagging_temperature': 9.744238772330636}. Best is trial 44 with value: 0.5403846153846154.\n",
      "[I 2024-06-07 17:05:04,639] Trial 49 finished with value: 0.5230769230769231 and parameters: {'objective': 'CrossEntropy', 'colsample_bylevel': 0.06877397954093856, 'depth': 4, 'boosting_type': 'Ordered', 'bootstrap_type': 'Bayesian', 'l2_leaf_reg': 0.00017787574625633085, 'learning_rate': 0.03739888149775248, 'border_count': 53, 'bagging_temperature': 7.244883730195219}. Best is trial 44 with value: 0.5403846153846154.\n"
     ]
    },
    {
     "output_type": "stream",
     "name": "stdout",
     "text": [
      "Best parameters: {'objective': 'Logloss', 'colsample_bylevel': 0.08636970893056112, 'depth': 5, 'boosting_type': 'Ordered', 'bootstrap_type': 'MVS', 'l2_leaf_reg': 0.0005739849411010852, 'learning_rate': 0.008214995349459315, 'border_count': 221}\n"
     ]
    },
    {
     "output_type": "execute_result",
     "data": {
      "text/plain": [
       "['onehot_encoder.joblib']"
      ]
     },
     "metadata": {},
     "execution_count": 11
    }
   ]
  },
  {
   "cell_type": "code",
   "source": [
    "print(\"Number of finished trials: {}\".format(len(study.trials)))\n",
    "\n",
    "print(\"Best trial:\")\n",
    "trial = study.best_trial\n",
    "\n",
    "print(\"  Value: {}\".format(trial.value))\n",
    "\n",
    "print(\"  Params: \")\n",
    "for key, value in trial.params.items():\n",
    "    print(\"    {}: {}\".format(key, value))"
   ],
   "metadata": {
    "colab": {
     "base_uri": "https://localhost:8080/"
    },
    "id": "ugMG4jCwqLP8",
    "outputId": "e9f7f64f-49d4-447f-f844-85aa0e0dc077"
   },
   "execution_count": 14,
   "outputs": [
    {
     "output_type": "stream",
     "name": "stdout",
     "text": [
      "Number of finished trials: 50\n",
      "Best trial:\n",
      "  Value: 0.5403846153846154\n",
      "  Params: \n",
      "    objective: Logloss\n",
      "    colsample_bylevel: 0.08636970893056112\n",
      "    depth: 5\n",
      "    boosting_type: Ordered\n",
      "    bootstrap_type: MVS\n",
      "    l2_leaf_reg: 0.0005739849411010852\n",
      "    learning_rate: 0.008214995349459315\n",
      "    border_count: 221\n"
     ]
    }
   ]
  },
  {
   "cell_type": "code",
   "source": [
    "loaded_model_pipeline = joblib.load(model_file_path)\n",
    "loaded_encoder = joblib.load(encoder_file_path)\n",
    "\n",
    "y_pred = loaded_model_pipeline.predict(X_test)\n",
    "y_pred_proba = loaded_model_pipeline.predict_proba(X_test)[:, 1]\n",
    "\n",
    "accuracy = accuracy_score(y_test, y_pred)\n",
    "precision = precision_score(y_test, y_pred)\n",
    "recall = recall_score(y_test, y_pred)\n",
    "f1 = f1_score(y_test, y_pred)\n",
    "\n",
    "print(f\"Accuracy: {accuracy}\")\n",
    "print(f\"Precision: {precision}\")\n",
    "print(f\"Recall: {recall}\")\n",
    "print(f\"F1 Score: {f1}\")"
   ],
   "metadata": {
    "colab": {
     "base_uri": "https://localhost:8080/"
    },
    "id": "sgZthtY9pHDq",
    "outputId": "e5825ed6-b2ec-44e4-ce4c-2c4f87c49460"
   },
   "execution_count": 12,
   "outputs": [
    {
     "output_type": "stream",
     "name": "stdout",
     "text": [
      "Accuracy: 0.55\n",
      "Precision: 0.5380710659898477\n",
      "Recall: 0.803030303030303\n",
      "F1 Score: 0.6443768996960486\n"
     ]
    }
   ]
  },
  {
   "cell_type": "code",
   "source": [
    "new_data = {'0': 'axe', '1': 'wraith_king', '2': 'shadow_shaman', '3': 'centaur_warrunner', '4': 'sand_king',\n",
    "            '5': 'naga_siren', '6': 'lone_druid', '7': 'batrider', '8': 'pangolier', '9': 'morphling'}\n",
    "new_data_df = pd.DataFrame([new_data])\n",
    "\n",
    "new_first_five_encoded = loaded_encoder.transform(new_data_df[first_five_cols].values.reshape(-1, 1)).reshape(new_data_df.shape[0], -1, len(loaded_encoder.categories_[0])).sum(axis=1)\n",
    "new_last_five_encoded = loaded_encoder.transform(new_data_df[last_five_cols].values.reshape(-1, 1)).reshape(new_data_df.shape[0], -1, len(loaded_encoder.categories_[0])).sum(axis=1)\n",
    "new_combined_encoded = new_first_five_encoded - new_last_five_encoded\n",
    "\n",
    "new_encoded_df = pd.DataFrame(new_combined_encoded, columns=encoded_columns)\n",
    "\n",
    "\n",
    "prediction = loaded_model_pipeline.predict_proba(new_encoded_df)[:, 1]\n",
    "print(\"Prediction for new data:\", prediction)"
   ],
   "metadata": {
    "colab": {
     "base_uri": "https://localhost:8080/"
    },
    "id": "qNIPZbEvaJ58",
    "outputId": "7507deac-f2d0-4b88-abe5-3b58d7f03409"
   },
   "execution_count": 15,
   "outputs": [
    {
     "output_type": "stream",
     "name": "stdout",
     "text": [
      "Prediction for new data: [0.63084416]\n"
     ]
    }
   ]
  }
 ]
}
